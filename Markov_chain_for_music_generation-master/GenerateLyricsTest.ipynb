{
 "cells": [
  {
   "cell_type": "code",
   "execution_count": 5,
   "id": "e6956817",
   "metadata": {},
   "outputs": [],
   "source": [
    "import spacy\n",
    "import re\n",
    "import markovify\n",
    "import nltk\n",
    "import numpy as np\n",
    "import pandas as pd\n",
    "from nltk.corpus import gutenberg\n",
    "import warnings"
   ]
  },
  {
   "cell_type": "code",
   "execution_count": 7,
   "id": "2368bcba",
   "metadata": {},
   "outputs": [
    {
     "name": "stdout",
     "output_type": "stream",
     "text": [
      "I remember you well in the Chelsea Hotel,\n",
      "you were talking so brave and so sweet,\n",
      "giving me head on the unmade bed,\n",
      "while the limousines wait in the street.\n",
      "Those were the reasons and that was New York,\n",
      "we were running for the money and the flesh.\n",
      "And that was called love for the workers in song\n",
      "probably still is for those of them left.\n",
      "Ah but you got away, didn’t you babe,\n",
      "you just turned your back on the crowd,\n",
      "you got away, I never once heard you say,\n",
      "I need you, I don’t need you,\n",
      "I need you, I don’t need you\n",
      "and all of that jiving around.\n",
      "\n",
      "I remember you well in the Chelsea Hotel\n",
      "you were famous, your heart was a legend.\n",
      "You told me again you preferred handsome men\n",
      "but for me you would make an exception.\n",
      "And clenching your fist for the ones like us\n",
      "who are oppressed by the figures of beauty,\n",
      "you fixed yourself, you said, “Well never mind,\n",
      "we are ugly but we have the music.”\n",
      "\n",
      "And then you got away, didn’t you babe,\n",
      "you just threw it all to the ground,\n",
      "you got away, I never once heard you say,\n",
      "I need you, I don’t need you,\n",
      "I need you, I don’t need you\n",
      "and all of that jiving around.\n",
      "\n",
      "I don’t mean to suggest that I loved you the best,\n",
      "I can’t keep track of each fallen robin.\n",
      "I remember you well in the Chelsea Hotel,\n",
      "that’s all, I don’t even think of you that often.\n"
     ]
    }
   ],
   "source": [
    "fileObject = open(\"data/chelsea.txt\", \"r\")\n",
    "data = fileObject.read()\n",
    "print(data)"
   ]
  },
  {
   "cell_type": "code",
   "execution_count": 8,
   "id": "64b12223",
   "metadata": {},
   "outputs": [],
   "source": [
    "#utility function for text cleaning\n",
    "def text_cleaner(text):\n",
    "  text = re.sub(r'--', ' ', text)\n",
    "  text = re.sub('[\\[].*?[\\]]', '', text)\n",
    "  text = re.sub(r'(\\b|\\s+\\-?|^\\-?)(\\d+|\\d*\\.\\d+)\\b','', text)\n",
    "  text = ' '.join(text.split())\n",
    "  return text"
   ]
  },
  {
   "cell_type": "code",
   "execution_count": 9,
   "id": "55dec3d4",
   "metadata": {},
   "outputs": [],
   "source": [
    "data = text_cleaner(data)"
   ]
  },
  {
   "cell_type": "code",
   "execution_count": 46,
   "id": "cd18234e",
   "metadata": {},
   "outputs": [],
   "source": [
    "#create text generator using markovify\n",
    "generator_1 = markovify.Text(data, state_size=2)"
   ]
  },
  {
   "cell_type": "code",
   "execution_count": 47,
   "id": "fb9073e6",
   "metadata": {},
   "outputs": [
    {
     "name": "stdout",
     "output_type": "stream",
     "text": [
      "And then you got away, I never once heard you say, I need you, I need you, I don’t need you and all of that jiving around.\n",
      "And that was called love for the money and the flesh.\n",
      "I remember you well in the Chelsea Hotel, that’s all, I don’t need you and all of that jiving around.\n"
     ]
    }
   ],
   "source": [
    "#We will randomly generate three sentences\n",
    "for i in range(3):\n",
    "  print(generator_1.make_sentence())"
   ]
  }
 ],
 "metadata": {
  "kernelspec": {
   "display_name": "Python 3.9 (tensorflow)",
   "language": "python",
   "name": "tensorflow"
  },
  "language_info": {
   "codemirror_mode": {
    "name": "ipython",
    "version": 3
   },
   "file_extension": ".py",
   "mimetype": "text/x-python",
   "name": "python",
   "nbconvert_exporter": "python",
   "pygments_lexer": "ipython3",
   "version": "3.9.13"
  }
 },
 "nbformat": 4,
 "nbformat_minor": 5
}
