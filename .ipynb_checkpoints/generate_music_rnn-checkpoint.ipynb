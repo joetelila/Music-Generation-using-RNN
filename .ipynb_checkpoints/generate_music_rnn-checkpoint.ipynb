{
 "cells": [
  {
   "cell_type": "code",
   "execution_count": 1,
   "id": "89a095fe-a9ae-4217-beda-d84a5c69dde1",
   "metadata": {},
   "outputs": [],
   "source": [
    "# Harmony Team\n",
    "# Nov. 10 - 2022"
   ]
  },
  {
   "cell_type": "code",
   "execution_count": 9,
   "id": "defa89e0-c4ae-4c33-9b7e-8e1da8b8d552",
   "metadata": {},
   "outputs": [],
   "source": [
    "import numpy as np\n",
    "import pandas as pd\n",
    "import matplotlib.pyplot as plt\n",
    "import pickle \n",
    "import json\n",
    "import os\n",
    "from pathlib import Path\n",
    "from IPython.display import Image, Audio\n",
    "from music21 import note , chord , stream , instrument , converter   \n",
    "import mido\n",
    "# from midi2audio import FluidSynth          # to convert midi to wav file"
   ]
  },
  {
   "cell_type": "code",
   "execution_count": 10,
   "id": "cfc3212c-baed-4b58-8ec2-0f8f3ade664e",
   "metadata": {},
   "outputs": [],
   "source": [
    "mid = mido.MidiFile('dataset/midi_songs/rufus.mid')"
   ]
  },
  {
   "cell_type": "code",
   "execution_count": 7,
   "id": "ffcc38d5-5d0e-4e6b-8ae4-dd0ad75e2f12",
   "metadata": {},
   "outputs": [
    {
     "data": {
      "text/plain": [
       "music21.stream.base.Score"
      ]
     },
     "execution_count": 7,
     "metadata": {},
     "output_type": "execute_result"
    }
   ],
   "source": [
    "# Reading MidiFile\n",
    "# parse the encoded data in a file object to midi stream\n",
    "midi = converter.parse('dataset/midi_songs/rufus.mid')\n",
    "type(midi)"
   ]
  },
  {
   "cell_type": "code",
   "execution_count": 14,
   "id": "779d090b-e30d-4915-989e-1a6a92839b23",
   "metadata": {},
   "outputs": [],
   "source": [
    "#midi.show('text')"
   ]
  },
  {
   "cell_type": "code",
   "execution_count": 15,
   "id": "700f66c6-5cb7-4979-aa33-9da3eb5ce515",
   "metadata": {},
   "outputs": [
    {
     "name": "stdout",
     "output_type": "stream",
     "text": [
      "507\n"
     ]
    }
   ],
   "source": [
    "# Flat all the elements - notes/chords\n",
    "notes_to_parse = midi.flat.notes\n",
    "print(len(notes_to_parse))"
   ]
  },
  {
   "cell_type": "code",
   "execution_count": 29,
   "id": "a627d95b-7cdf-433c-ac0a-04c229e55797",
   "metadata": {},
   "outputs": [
    {
     "name": "stdout",
     "output_type": "stream",
     "text": [
      "<music21.note.Note E> 0.0\n",
      "<music21.note.Note E> 0.0\n",
      "<music21.note.Note E> 1.5\n",
      "<music21.note.Note E> 1.75\n",
      "<music21.note.Note E> 2.0\n",
      "<music21.note.Note E> 2.0\n",
      "<music21.note.Note F> 2.5\n",
      "<music21.note.Note E-> 2.5\n",
      "<music21.note.Note E> 3.0\n",
      "<music21.note.Note D> 3.0\n",
      "<music21.note.Note G> 3.5\n",
      "<music21.note.Note C#> 3.5\n",
      "<music21.note.Note G#> 4.0\n",
      "<music21.note.Note B> 4.0\n",
      "<music21.note.Note E> 5.0\n"
     ]
    }
   ],
   "source": [
    "for element in notes_to_parse[:15]:\n",
    "    print(element , element.offset)   # Offset refers to where the note is located in the piece"
   ]
  },
  {
   "cell_type": "code",
   "execution_count": 34,
   "id": "fb7fc6e2-0e78-400b-b7c3-cde3e47c6960",
   "metadata": {},
   "outputs": [
    {
     "data": {
      "text/plain": [
       "'E4'"
      ]
     },
     "execution_count": 34,
     "metadata": {},
     "output_type": "execute_result"
    }
   ],
   "source": [
    "str(notes_to_parse[0].pitch)"
   ]
  },
  {
   "cell_type": "code",
   "execution_count": 39,
   "id": "e85080c0-3c1b-491c-8776-d5fc843c4d6b",
   "metadata": {},
   "outputs": [
    {
     "data": {
      "text/plain": [
       "[2, 5]"
      ]
     },
     "execution_count": 39,
     "metadata": {},
     "output_type": "execute_result"
    }
   ],
   "source": [
    "notes_to_parse[50].normalOrder"
   ]
  },
  {
   "cell_type": "code",
   "execution_count": 40,
   "id": "656fdc21-d24f-47ed-a56f-ba8913221243",
   "metadata": {},
   "outputs": [
    {
     "data": {
      "text/plain": [
       "(<music21.pitch.Pitch E4>, 'E4')"
      ]
     },
     "execution_count": 40,
     "metadata": {},
     "output_type": "execute_result"
    }
   ],
   "source": [
    "# Pitch refers to the frequency of the sound, or how high or low a particular note is \n",
    "# and is represented with the letters [A, B, C, D, E, F, G], with A being the highest and G being the lowest\n",
    "notes_to_parse[0].pitch , str(notes_to_parse[0].pitch)"
   ]
  },
  {
   "cell_type": "code",
   "execution_count": 41,
   "id": "4c64673e-4257-4644-8c85-e0f6f39e9012",
   "metadata": {},
   "outputs": [],
   "source": [
    "notes_demo = []\n",
    "\n",
    "for element in notes_to_parse:\n",
    "    \n",
    "    # if the element is a Note , then store it's Pitch\n",
    "    if isinstance(element , note.Note):\n",
    "        notes_demo.append(str(element.pitch))\n",
    "        \n",
    "    # if the element is a Chord , split each of the note of the chord and join them with +\n",
    "    elif isinstance(element , chord.Chord):\n",
    "        notes_demo.append('+'.join(str(n) for n in element.normalOrder))"
   ]
  },
  {
   "cell_type": "code",
   "execution_count": 42,
   "id": "9dec42e6-1841-4f93-b211-4f4c9d25c8cb",
   "metadata": {},
   "outputs": [
    {
     "data": {
      "text/plain": [
       "507"
      ]
     },
     "execution_count": 42,
     "metadata": {},
     "output_type": "execute_result"
    }
   ],
   "source": [
    "len(notes_demo)"
   ]
  },
  {
   "cell_type": "code",
   "execution_count": 43,
   "id": "95d00722-c568-44d0-ac6f-a6d411839c71",
   "metadata": {},
   "outputs": [
    {
     "name": "stdout",
     "output_type": "stream",
     "text": [
      "['B4', 'B2', 'E2', 'E4', 'E2', 'G#4', 'B4', '2+4', 'G#3', '2+5', 'A3', 'C#5', '2+6', 'B3', '6+11', 'B3', '2+7', 'B3']\n"
     ]
    }
   ],
   "source": [
    "print(notes_demo[32:50])"
   ]
  },
  {
   "cell_type": "code",
   "execution_count": 44,
   "id": "6b45c127-2685-460e-862e-19a1eff1970d",
   "metadata": {},
   "outputs": [
    {
     "name": "stderr",
     "output_type": "stream",
     "text": [
      "/opt/anaconda3/envs/cnr/lib/python3.8/site-packages/music21/midi/translate.py:883: TranslateWarning: Unable to determine instrument from <music21.midi.MidiEvent SEQUENCE_TRACK_NAME, track=5, channel=None, data=b'Martin Rosok Copyright \\xa9 1998'>; getting generic Instrument\n",
      "  warnings.warn(\n",
      "/opt/anaconda3/envs/cnr/lib/python3.8/site-packages/music21/midi/translate.py:883: TranslateWarning: Unable to determine instrument from <music21.midi.MidiEvent SEQUENCE_TRACK_NAME, track=6, channel=None, data=b'Pok\\xe9mon: Elite Four (Piano)'>; getting generic Instrument\n",
      "  warnings.warn(\n"
     ]
    }
   ],
   "source": [
    "# Get all the notes and chords from the midi files in the ./midi_songs directory \n",
    "notes = []\n",
    "p = Path(\"dataset/midi_songs\")\n",
    "\n",
    "for file in p.glob(\"*.mid\"):\n",
    "    midi = converter.parse(file)\n",
    "    # print(f\"parsing {file}\" , end = \"  \")\n",
    "    \n",
    "    elements_to_parse = midi.flat.notes\n",
    "    # print(f\"length {len(elements_to_parse)}\")\n",
    "    \n",
    "    for element in elements_to_parse:\n",
    "        \n",
    "        # if the element is a Note, then store it's Pitch\n",
    "        if isinstance(element , note.Note):\n",
    "            notes.append(str(element.pitch))\n",
    "            \n",
    "        # if the element is a Chord , then split each of the note and join with +\n",
    "        elif isinstance(element , chord.Chord):\n",
    "            notes.append(\"+\".join(str(n) for n in element.normalOrder))"
   ]
  },
  {
   "cell_type": "code",
   "execution_count": 45,
   "id": "6d653a8e-6fa1-4ca1-a339-199d2a8f04ab",
   "metadata": {},
   "outputs": [
    {
     "data": {
      "text/plain": [
       "60764"
      ]
     },
     "execution_count": 45,
     "metadata": {},
     "output_type": "execute_result"
    }
   ],
   "source": [
    "len(notes)"
   ]
  },
  {
   "cell_type": "code",
   "execution_count": 51,
   "id": "24516b64-ce36-49ba-8e13-fd74fe33911b",
   "metadata": {},
   "outputs": [],
   "source": [
    "with open(\"./dataset/notes\" , \"wb\") as file:\n",
    "    pickle.dump(notes , file)"
   ]
  },
  {
   "cell_type": "code",
   "execution_count": 52,
   "id": "59f4db89-1e54-4c74-bc76-5a038ca18996",
   "metadata": {},
   "outputs": [],
   "source": [
    "with open(\"./dataset/notes\" , \"rb\") as file:\n",
    "    notes = pickle.load(file)"
   ]
  },
  {
   "cell_type": "code",
   "execution_count": 54,
   "id": "4511d64f-f927-4c28-80cf-ca167f0d7b1b",
   "metadata": {},
   "outputs": [
    {
     "name": "stdout",
     "output_type": "stream",
     "text": [
      "Total notes:  60764\n",
      "Unique notes:  398\n"
     ]
    }
   ],
   "source": [
    "print(\"Total notes: \" , len(notes))\n",
    "print(\"Unique notes: \" , len(set(notes)))"
   ]
  },
  {
   "cell_type": "code",
   "execution_count": 55,
   "id": "377614b6-161c-4d18-af75-c438a5c13c90",
   "metadata": {},
   "outputs": [],
   "source": [
    "n_vocab = len(set(notes))"
   ]
  },
  {
   "cell_type": "code",
   "execution_count": 56,
   "id": "df6282c6-bf67-4f74-a35e-77972fa88b52",
   "metadata": {},
   "outputs": [
    {
     "data": {
      "text/plain": [
       "398"
      ]
     },
     "execution_count": 56,
     "metadata": {},
     "output_type": "execute_result"
    }
   ],
   "source": [
    "n_vocab"
   ]
  },
  {
   "cell_type": "markdown",
   "id": "9c4cd054-0d07-4643-808a-2a5cf7211ae0",
   "metadata": {},
   "source": [
    "## PREPARE SEQUENTIAL DATA FOR LSTM"
   ]
  },
  {
   "cell_type": "code",
   "execution_count": 57,
   "id": "1ad9a12b-93ad-437e-bc75-243d834600a8",
   "metadata": {},
   "outputs": [],
   "source": [
    "# get all pitch names (unique classes)\n",
    "pitchnames = sorted(set(notes))\n",
    "\n",
    "# create a dictionary to map pitches to integers\n",
    "note_to_int = dict((element , idx) for idx , element in enumerate(pitchnames))\n",
    "\n",
    "# create a reverse mapping\n",
    "int_to_note = {idx:element for element , idx in note_to_int.items()}\n",
    "\n",
    "assert len(note_to_int) == n_vocab"
   ]
  },
  {
   "cell_type": "code",
   "execution_count": 58,
   "id": "356a184b-82e8-4817-82be-ccd9648160d5",
   "metadata": {},
   "outputs": [],
   "source": [
    "# get all pitch names (unique classes)\n",
    "pitchnames = sorted(set(notes))\n",
    "\n",
    "# create a dictionary to map pitches to integers\n",
    "note_to_int = dict((element , idx) for idx , element in enumerate(pitchnames))\n",
    "\n",
    "# create a reverse mapping\n",
    "int_to_note = {idx:element for element , idx in note_to_int.items()}\n",
    "\n",
    "assert len(note_to_int) == n_vocab"
   ]
  },
  {
   "cell_type": "code",
   "execution_count": 59,
   "id": "7f47df1b-1844-4501-8f22-c6f659746968",
   "metadata": {},
   "outputs": [],
   "source": [
    "# How many elements LSTM input should consider\n",
    "sequence_len = 100"
   ]
  },
  {
   "cell_type": "code",
   "execution_count": 60,
   "id": "2c5deeb7-a2be-49bf-a3cc-9ae3e2086bcb",
   "metadata": {},
   "outputs": [],
   "source": [
    "network_input = []     # input sequence data\n",
    "network_output = []    # output data\n",
    "\n",
    "for i in range(len(notes) - sequence_len):\n",
    "    seq_in = notes[i : i+sequence_len]         # contains 100 values\n",
    "    seq_out = notes[i+sequence_len]\n",
    "    \n",
    "    network_input.append([note_to_int[n] for n in seq_in])\n",
    "    network_output.append(note_to_int[seq_out])"
   ]
  },
  {
   "cell_type": "code",
   "execution_count": 71,
   "id": "3373acf2-2e05-415c-9b91-45999acf30ef",
   "metadata": {},
   "outputs": [
    {
     "data": {
      "text/plain": [
       "390"
      ]
     },
     "execution_count": 71,
     "metadata": {},
     "output_type": "execute_result"
    }
   ],
   "source": [
    "network_output[0]"
   ]
  },
  {
   "cell_type": "code",
   "execution_count": 72,
   "id": "35e350a9-9d19-432b-bf09-76223a06c541",
   "metadata": {},
   "outputs": [
    {
     "data": {
      "text/plain": [
       "(60664, 60664)"
      ]
     },
     "execution_count": 72,
     "metadata": {},
     "output_type": "execute_result"
    }
   ],
   "source": [
    "len(network_input) , len(network_output)"
   ]
  },
  {
   "cell_type": "code",
   "execution_count": 73,
   "id": "3b4dfd04-1782-4ef1-a277-01262f91c787",
   "metadata": {},
   "outputs": [
    {
     "data": {
      "text/plain": [
       "(60664, 60664)"
      ]
     },
     "execution_count": 73,
     "metadata": {},
     "output_type": "execute_result"
    }
   ],
   "source": [
    "len(network_input) , len(network_output)"
   ]
  },
  {
   "cell_type": "code",
   "execution_count": 74,
   "id": "bce31a74-6606-4ccd-84b4-de90f3d1dd40",
   "metadata": {},
   "outputs": [
    {
     "data": {
      "text/plain": [
       "(60664, 100)"
      ]
     },
     "execution_count": 74,
     "metadata": {},
     "output_type": "execute_result"
    }
   ],
   "source": [
    "np.asarray(network_input).shape"
   ]
  },
  {
   "cell_type": "code",
   "execution_count": 84,
   "id": "67fa6848-e510-4f22-ac85-ce9169ca2dd8",
   "metadata": {},
   "outputs": [
    {
     "name": "stdout",
     "output_type": "stream",
     "text": [
      "(60664, 100, 1)\n"
     ]
    }
   ],
   "source": [
    "# reshape input data into a shape compatible with LSTM layers\n",
    "normalised_network_input = np.reshape(network_input , (*(np.asarray(network_input).shape) , 1))  # input_samples, sequence_len, 1\n",
    "print(normalised_network_input.shape)"
   ]
  },
  {
   "cell_type": "code",
   "execution_count": 86,
   "id": "67058912-ae46-403c-8aa5-b05403e881f2",
   "metadata": {},
   "outputs": [
    {
     "data": {
      "text/plain": [
       "array([[382],\n",
       "       [382],\n",
       "       [333],\n",
       "       [382],\n",
       "       [395],\n",
       "       [389],\n",
       "       [383],\n",
       "       [382],\n",
       "       [395],\n",
       "       [394]])"
      ]
     },
     "execution_count": 86,
     "metadata": {},
     "output_type": "execute_result"
    }
   ],
   "source": [
    "normalised_network_input[0][:10]"
   ]
  },
  {
   "cell_type": "code",
   "execution_count": 87,
   "id": "75d9d385-65c0-4dfe-b396-9d222dcaf4db",
   "metadata": {},
   "outputs": [],
   "source": [
    "normalised_network_input = normalised_network_input/float(n_vocab)"
   ]
  },
  {
   "cell_type": "code",
   "execution_count": 88,
   "id": "ffb44597-bac2-41af-bef9-25e9e24e1e2a",
   "metadata": {},
   "outputs": [
    {
     "data": {
      "text/plain": [
       "array([[0.95979899],\n",
       "       [0.95979899],\n",
       "       [0.83668342],\n",
       "       [0.95979899],\n",
       "       [0.99246231],\n",
       "       [0.97738693],\n",
       "       [0.96231156],\n",
       "       [0.95979899],\n",
       "       [0.99246231],\n",
       "       [0.98994975]])"
      ]
     },
     "execution_count": 88,
     "metadata": {},
     "output_type": "execute_result"
    }
   ],
   "source": [
    "normalised_network_input[0][:10]"
   ]
  },
  {
   "cell_type": "code",
   "execution_count": 89,
   "id": "a15f2f0f-237a-4ef2-b426-ad25ce223b0e",
   "metadata": {},
   "outputs": [],
   "source": [
    "# Network output are the classes, so encode into one hot vector\n",
    "from tensorflow.keras.utils import to_categorical\n",
    "network_output = to_categorical(network_output)"
   ]
  },
  {
   "cell_type": "code",
   "execution_count": 92,
   "id": "846764c9-16ac-41d0-a038-7edb2b82f1cd",
   "metadata": {},
   "outputs": [
    {
     "name": "stdout",
     "output_type": "stream",
     "text": [
      "(60664, 100, 1)\n",
      "(60664, 398)\n"
     ]
    }
   ],
   "source": [
    "print(normalised_network_input.shape)\n",
    "print(network_output.shape)"
   ]
  },
  {
   "cell_type": "code",
   "execution_count": 93,
   "id": "90d80a07-8508-4783-a211-755dbfc10ed3",
   "metadata": {},
   "outputs": [
    {
     "name": "stdout",
     "output_type": "stream",
     "text": [
      "(60664, 100, 1)\n",
      "(60664, 398)\n"
     ]
    }
   ],
   "source": [
    "print(normalised_network_input.shape)\n",
    "print(network_output.shape)"
   ]
  },
  {
   "cell_type": "markdown",
   "id": "740e2989-85d4-42b1-b3a2-9f2b7901c7e2",
   "metadata": {},
   "source": [
    "#### DEFINE MODEL ARCHITECTURE"
   ]
  },
  {
   "cell_type": "code",
   "execution_count": null,
   "id": "81b694d3-9344-4628-82ed-4f4831413763",
   "metadata": {},
   "outputs": [],
   "source": []
  }
 ],
 "metadata": {
  "kernelspec": {
   "display_name": "Python 3 (ipykernel)",
   "language": "python",
   "name": "python3"
  },
  "language_info": {
   "codemirror_mode": {
    "name": "ipython",
    "version": 3
   },
   "file_extension": ".py",
   "mimetype": "text/x-python",
   "name": "python",
   "nbconvert_exporter": "python",
   "pygments_lexer": "ipython3",
   "version": "3.8.13"
  }
 },
 "nbformat": 4,
 "nbformat_minor": 5
}
