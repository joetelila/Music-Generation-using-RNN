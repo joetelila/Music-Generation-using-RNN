{
 "cells": [
  {
   "cell_type": "markdown",
   "id": "480af19c",
   "metadata": {},
   "source": [
    "# Hidden markov model generalized to 2 parenting relationship (also ngram model, n=3)"
   ]
  },
  {
   "cell_type": "code",
   "execution_count": null,
   "id": "97407836",
   "metadata": {},
   "outputs": [],
   "source": [
    "import nltk\n",
    "import random\n",
    "import numpy as np\n",
    "import pandas as pd\n",
    "import matplotlib.pyplot as plt\n",
    "import pickle \n",
    "import json\n",
    "import os\n",
    "from pathlib import Path\n",
    "from IPython.display import Image, Audio\n",
    "from music21 import note , chord , stream , instrument , converter   \n",
    "import mido"
   ]
  },
  {
   "cell_type": "code",
   "execution_count": 54,
   "id": "a28c8697",
   "metadata": {},
   "outputs": [],
   "source": [
    "# create a dict with the ngram model, it receives a list with the samples as string\n",
    "ngram_dict = {}\n",
    "\n",
    "def create_trigram_dict(corpus):\n",
    "    n = 3\n",
    "    ngrams = nltk.ngrams(corpus, n)\n",
    "    \n",
    "    for grams in ngrams:\n",
    "        dict_key = grams[:-1][0] + \" \" + grams[:-1][1]\n",
    "        if dict_key in ngram_dict:\n",
    "            ngram_dict[dict_key].append(grams[-1])\n",
    "        else:\n",
    "            ngram_dict[dict_key] = []\n",
    "            ngram_dict[dict_key].append(grams[-1])"
   ]
  },
  {
   "cell_type": "code",
   "execution_count": 58,
   "id": "0737f3ab",
   "metadata": {},
   "outputs": [],
   "source": [
    "def generate_trigram(seed, samples = 15):\n",
    "    output = seed  \n",
    "    for i in range(samples):\n",
    "        # When it reaches the last prefix, there is no suffix, so end\n",
    "        try:\n",
    "            new_sample = random.choice(ngram_dict[seed])\n",
    "        except:\n",
    "            return output\n",
    "        output += \" \" + new_sample\n",
    "        seed = seed.split(\" \")[1] + \" \" + new_sample\n",
    "\n",
    "    return output"
   ]
  },
  {
   "cell_type": "code",
   "execution_count": 56,
   "id": "2522520f",
   "metadata": {},
   "outputs": [
    {
     "data": {
      "text/plain": [
       "{'am I': ['a', 'a', 'a'],\n",
       " 'I a': ['gram', 'markov', 'gram'],\n",
       " 'a gram': ['or', 'only'],\n",
       " 'gram or': ['am'],\n",
       " 'or am': ['I'],\n",
       " 'a markov': ['chain'],\n",
       " 'markov chain': ['am'],\n",
       " 'chain am': ['I'],\n",
       " 'gram only': ['...'],\n",
       " 'only ...': ['maybe'],\n",
       " '... maybe': ['I'],\n",
       " 'maybe I': ['am'],\n",
       " 'I am': ['both']}"
      ]
     },
     "execution_count": 56,
     "metadata": {},
     "output_type": "execute_result"
    }
   ],
   "source": [
    "word_corpus = 'am I a gram or am I a markov chain am I a gram only ... maybe I am both'\n",
    "ngram_dict = {}\n",
    "create_trigram_dict(word_corpus.split(\" \"))\n",
    "ngram_dict"
   ]
  },
  {
   "cell_type": "code",
   "execution_count": 59,
   "id": "c7b053f7",
   "metadata": {},
   "outputs": [
    {
     "name": "stdout",
     "output_type": "stream",
     "text": [
      "am I a gram or am I a gram only ... maybe I am both\n"
     ]
    }
   ],
   "source": [
    "print(generate_trigram(\"am I\", 30))"
   ]
  },
  {
   "cell_type": "code",
   "execution_count": 63,
   "id": "ca2a606c",
   "metadata": {},
   "outputs": [],
   "source": [
    "mid = mido.MidiFile('dataset/midi_songs/rufus.mid')"
   ]
  },
  {
   "cell_type": "code",
   "execution_count": 65,
   "id": "c9b5125e",
   "metadata": {},
   "outputs": [
    {
     "data": {
      "text/plain": [
       "music21.stream.base.Score"
      ]
     },
     "execution_count": 65,
     "metadata": {},
     "output_type": "execute_result"
    }
   ],
   "source": [
    "midi = converter.parse('dataset/midi_songs/rufus.mid')\n",
    "type(midi)"
   ]
  },
  {
   "cell_type": "code",
   "execution_count": 90,
   "id": "33c4692d",
   "metadata": {},
   "outputs": [
    {
     "name": "stdout",
     "output_type": "stream",
     "text": [
      "507\n"
     ]
    }
   ],
   "source": [
    "# Flat all the elements - notes/chords\n",
    "notes_to_parse = midi.flat.notes\n",
    "print(len(notes_to_parse))"
   ]
  },
  {
   "cell_type": "code",
   "execution_count": 91,
   "id": "018ac43c",
   "metadata": {},
   "outputs": [
    {
     "name": "stdout",
     "output_type": "stream",
     "text": [
      "<music21.note.Note E> 0.0\n",
      "<music21.note.Note E> 0.0\n",
      "<music21.note.Note E> 1.5\n",
      "<music21.note.Note E> 1.75\n",
      "<music21.note.Note E> 2.0\n",
      "<music21.note.Note E> 2.0\n",
      "<music21.note.Note F> 2.5\n",
      "<music21.note.Note E-> 2.5\n",
      "<music21.note.Note E> 3.0\n",
      "<music21.note.Note D> 3.0\n",
      "<music21.note.Note G> 3.5\n",
      "<music21.note.Note C#> 3.5\n",
      "<music21.note.Note G#> 4.0\n",
      "<music21.note.Note B> 4.0\n",
      "<music21.note.Note E> 5.0\n"
     ]
    }
   ],
   "source": [
    "for element in notes_to_parse[:15]:\n",
    "    print(element , element.offset)"
   ]
  },
  {
   "cell_type": "code",
   "execution_count": 96,
   "id": "dc9638a1",
   "metadata": {},
   "outputs": [],
   "source": [
    "notes_demo = []\n",
    "\n",
    "for element in notes_to_parse:\n",
    "    \n",
    "    # if the element is a Note , then store it's Pitch\n",
    "    if isinstance(element , note.Note):\n",
    "        notes_demo.append(str(element.pitch))\n",
    "        \n",
    "  "
   ]
  },
  {
   "cell_type": "code",
   "execution_count": 97,
   "id": "afedb568",
   "metadata": {},
   "outputs": [
    {
     "data": {
      "text/plain": [
       "464"
      ]
     },
     "execution_count": 97,
     "metadata": {},
     "output_type": "execute_result"
    }
   ],
   "source": [
    "len(notes_demo)"
   ]
  },
  {
   "cell_type": "code",
   "execution_count": 98,
   "id": "9768677c",
   "metadata": {},
   "outputs": [
    {
     "name": "stdout",
     "output_type": "stream",
     "text": [
      "['B4', 'B2', 'E2', 'E4', 'E2', 'G#4', 'B4', 'G#3', 'A3', 'C#5', 'B3', 'B3', 'B3', 'A3', 'C#5', 'G#3', 'G#3', 'E2']\n"
     ]
    }
   ],
   "source": [
    "print(notes_demo[32:50])"
   ]
  },
  {
   "cell_type": "code",
   "execution_count": 133,
   "id": "c02ea5bc",
   "metadata": {},
   "outputs": [
    {
     "name": "stdout",
     "output_type": "stream",
     "text": [
      "  E4 E3 E4 E4 E4 E4 F4 E-4 E4 D4 G4 C#4 G#4 B3 E4 G#3 E2 E2 G#4 E3 G#4 G#4 G#4 G#3 A4 G3 B4 F#3 C#5 E3 D5 D3 B4 B2 E2 E4 E2 G#4 B4 G#3 A3 C#5 B3 B3 B3 A3 C#5 G#3 G#3 E2 A2 E2 E5 D5 C#5 A2 C#5 E2 B4 C#5 E2 D5 C#5 B2 B4 A4 A2 E2 A2 A4 C#5 E2 E5 F#5 D2 D5 A2 C#5 B4 E2 F#5 B2 E5 A2 E2 A2 A4 C#5 E2 E5\n"
     ]
    }
   ],
   "source": [
    "#converting notes_demo into a single string\n",
    "l = notes_demo[0:90]\n",
    "melody = ' '\n",
    "for i in l:\n",
    "  melody = melody+ ' '+ i\n",
    "print(melody)\n"
   ]
  },
  {
   "cell_type": "code",
   "execution_count": 134,
   "id": "229e58fc",
   "metadata": {},
   "outputs": [],
   "source": [
    "ngram_dict = {}\n",
    "create_trigram_dict(melody.split(\" \"))"
   ]
  },
  {
   "cell_type": "code",
   "execution_count": 135,
   "id": "961067a1",
   "metadata": {},
   "outputs": [
    {
     "data": {
      "text/plain": [
       "{' ': ['E4'],\n",
       " ' E4': ['E3'],\n",
       " 'E4 E3': ['E4'],\n",
       " 'E3 E4': ['E4'],\n",
       " 'E4 E4': ['E4', 'E4', 'F4'],\n",
       " 'E4 F4': ['E-4'],\n",
       " 'F4 E-4': ['E4'],\n",
       " 'E-4 E4': ['D4'],\n",
       " 'E4 D4': ['G4'],\n",
       " 'D4 G4': ['C#4'],\n",
       " 'G4 C#4': ['G#4'],\n",
       " 'C#4 G#4': ['B3'],\n",
       " 'G#4 B3': ['E4'],\n",
       " 'B3 E4': ['G#3'],\n",
       " 'E4 G#3': ['E2'],\n",
       " 'G#3 E2': ['E2', 'A2'],\n",
       " 'E2 E2': ['G#4'],\n",
       " 'E2 G#4': ['E3', 'B4'],\n",
       " 'G#4 E3': ['G#4'],\n",
       " 'E3 G#4': ['G#4'],\n",
       " 'G#4 G#4': ['G#4', 'G#3'],\n",
       " 'G#4 G#3': ['A4'],\n",
       " 'G#3 A4': ['G3'],\n",
       " 'A4 G3': ['B4'],\n",
       " 'G3 B4': ['F#3'],\n",
       " 'B4 F#3': ['C#5'],\n",
       " 'F#3 C#5': ['E3'],\n",
       " 'C#5 E3': ['D5'],\n",
       " 'E3 D5': ['D3'],\n",
       " 'D5 D3': ['B4'],\n",
       " 'D3 B4': ['B2'],\n",
       " 'B4 B2': ['E2'],\n",
       " 'B2 E2': ['E4'],\n",
       " 'E2 E4': ['E2'],\n",
       " 'E4 E2': ['G#4'],\n",
       " 'G#4 B4': ['G#3'],\n",
       " 'B4 G#3': ['A3'],\n",
       " 'G#3 A3': ['C#5'],\n",
       " 'A3 C#5': ['B3', 'G#3'],\n",
       " 'C#5 B3': ['B3'],\n",
       " 'B3 B3': ['B3', 'A3'],\n",
       " 'B3 A3': ['C#5'],\n",
       " 'C#5 G#3': ['G#3'],\n",
       " 'G#3 G#3': ['E2'],\n",
       " 'E2 A2': ['E2', 'A4', 'A4'],\n",
       " 'A2 E2': ['E5', 'A2', 'A2'],\n",
       " 'E2 E5': ['D5', 'F#5'],\n",
       " 'E5 D5': ['C#5'],\n",
       " 'D5 C#5': ['A2', 'B2'],\n",
       " 'C#5 A2': ['C#5'],\n",
       " 'A2 C#5': ['E2', 'B4'],\n",
       " 'C#5 E2': ['B4', 'D5', 'E5', 'E5'],\n",
       " 'E2 B4': ['C#5'],\n",
       " 'B4 C#5': ['E2'],\n",
       " 'E2 D5': ['C#5'],\n",
       " 'C#5 B2': ['B4'],\n",
       " 'B2 B4': ['A4'],\n",
       " 'B4 A4': ['A2'],\n",
       " 'A4 A2': ['E2'],\n",
       " 'A2 A4': ['C#5', 'C#5'],\n",
       " 'A4 C#5': ['E2', 'E2'],\n",
       " 'E5 F#5': ['D2'],\n",
       " 'F#5 D2': ['D5'],\n",
       " 'D2 D5': ['A2'],\n",
       " 'D5 A2': ['C#5'],\n",
       " 'C#5 B4': ['E2'],\n",
       " 'B4 E2': ['F#5'],\n",
       " 'E2 F#5': ['B2'],\n",
       " 'F#5 B2': ['E5'],\n",
       " 'B2 E5': ['A2'],\n",
       " 'E5 A2': ['E2']}"
      ]
     },
     "execution_count": 135,
     "metadata": {},
     "output_type": "execute_result"
    }
   ],
   "source": [
    "ngram_dict"
   ]
  },
  {
   "cell_type": "code",
   "execution_count": 139,
   "id": "a7e7be2c",
   "metadata": {},
   "outputs": [
    {
     "name": "stdout",
     "output_type": "stream",
     "text": [
      "E5 A2 E2 A2 E2 E5 F#5 D2 D5 A2 C#5 E2 E5 F#5 D2 D5 A2 C#5 E2 B4 C#5 E2 E5 D5 C#5 B2 B4 A4 A2 E2 A2 E2\n"
     ]
    }
   ],
   "source": [
    "#generate melody based on trigram model and pattern recognition on ngram_dict\n",
    "generated_melody = generate_trigram(\"E5 A2\", 30)\n",
    "print(generated_melody)"
   ]
  },
  {
   "cell_type": "code",
   "execution_count": 140,
   "id": "d678733f",
   "metadata": {},
   "outputs": [],
   "source": [
    "#create suitable format for playing midi file concatenating the string with the notation and tempo\n",
    "generated_melody = \"tinynotation: 3/4\" + generated_melody"
   ]
  },
  {
   "cell_type": "code",
   "execution_count": 141,
   "id": "2f21ec15",
   "metadata": {},
   "outputs": [
    {
     "data": {
      "text/html": [
       "\n",
       "                <div id=\"midiPlayerDiv389385\"></div>\n",
       "                <link rel=\"stylesheet\" href=\"//cuthbertLab.github.io/music21j/css/m21.css\"\n",
       "                    type=\"text/css\" />\n",
       "                \n",
       "                <script>\n",
       "                require.config({\n",
       "                    paths: {'music21': '//cuthbertLab.github.io/music21j/src/music21'}\n",
       "                });\n",
       "                require(['music21'], function() {\n",
       "                               mp = new music21.miditools.MidiPlayer();\n",
       "                               mp.addPlayer(\"#midiPlayerDiv389385\");\n",
       "                               mp.base64Load(\"data:audio/midi;base64,TVRoZAAAAAYAAQACBABNVHJrAAAAFAD/UQMHoSAA/1gEBAIYCIgA/y8ATVRyawAAALkA/wMAAOAAQIgAkDlakACAOQAAkDRakACANAAAkDlakACAOQAAkDRakACANAAAkDJakACAMgAAkDlakACAOQAAkDRakACANAAAkDJakACAMgAAkDlakACAOQAAkDRakACANAAAkDtaiACAOwAAkDRakACANAAAkDtakACAOwAAkDtaiACAOwAAkDlaiACAOQAAkDlakACAOQAAkDRakACANAAAkDlakACAOQAAkDRakACANACIAP8vAA==\");\n",
       "                        });\n",
       "                </script>"
      ],
      "text/plain": [
       "<IPython.core.display.HTML object>"
      ]
     },
     "metadata": {},
     "output_type": "display_data"
    }
   ],
   "source": [
    "littleMelody = converter.parse(generated_melody)\n",
    "littleMelody.show('midi')"
   ]
  },
  {
   "cell_type": "code",
   "execution_count": null,
   "id": "fe972fd7",
   "metadata": {},
   "outputs": [],
   "source": []
  }
 ],
 "metadata": {
  "kernelspec": {
   "display_name": "Python 3 (ipykernel)",
   "language": "python",
   "name": "python3"
  },
  "language_info": {
   "codemirror_mode": {
    "name": "ipython",
    "version": 3
   },
   "file_extension": ".py",
   "mimetype": "text/x-python",
   "name": "python",
   "nbconvert_exporter": "python",
   "pygments_lexer": "ipython3",
   "version": "3.9.13"
  }
 },
 "nbformat": 4,
 "nbformat_minor": 5
}
